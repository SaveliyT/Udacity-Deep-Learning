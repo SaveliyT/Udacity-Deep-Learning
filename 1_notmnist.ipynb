{
 "cells": [
  {
   "cell_type": "markdown",
   "metadata": {
    "colab_type": "text",
    "id": "5hIbr52I7Z7U"
   },
   "source": [
    "Deep Learning\n",
    "=============\n",
    "\n",
    "Assignment 1\n",
    "------------\n",
    "\n",
    "The objective of this assignment is to learn about simple data curation practices, and familiarize you with some of the data we'll be reusing later.\n",
    "\n",
    "This notebook uses the [notMNIST](http://yaroslavvb.blogspot.com/2011/09/notmnist-dataset.html) dataset to be used with python experiments. This dataset is designed to look like the classic [MNIST](http://yann.lecun.com/exdb/mnist/) dataset, while looking a little more like real data: it's a harder task, and the data is a lot less 'clean' than MNIST."
   ]
  },
  {
   "cell_type": "code",
   "execution_count": 1,
   "metadata": {
    "cellView": "both",
    "colab": {
     "autoexec": {
      "startup": false,
      "wait_interval": 0
     }
    },
    "colab_type": "code",
    "id": "apJbCsBHl-2A"
   },
   "outputs": [],
   "source": [
    "# These are all the modules we'll be using later. Make sure you can import them\n",
    "# before proceeding further.\n",
    "from __future__ import print_function\n",
    "import matplotlib.pyplot as plt\n",
    "import numpy as np\n",
    "import os\n",
    "import sys\n",
    "import tarfile\n",
    "from IPython.display import display, Image\n",
    "from scipy import ndimage\n",
    "from sklearn.linear_model import LogisticRegression\n",
    "from six.moves.urllib.request import urlretrieve\n",
    "from six.moves import cPickle as pickle\n",
    "from tqdm import tqdm_notebook\n",
    "\n",
    "# Config the matplotlib backend as plotting inline in IPython\n",
    "%matplotlib inline"
   ]
  },
  {
   "cell_type": "markdown",
   "metadata": {
    "colab_type": "text",
    "id": "jNWGtZaXn-5j"
   },
   "source": [
    "First, we'll download the dataset to our local machine. The data consists of characters rendered in a variety of fonts on a 28x28 image. The labels are limited to 'A' through 'J' (10 classes). The training set has about 500k and the testset 19000 labeled examples. Given these sizes, it should be possible to train models quickly on any machine."
   ]
  },
  {
   "cell_type": "code",
   "execution_count": 29,
   "metadata": {
    "cellView": "both",
    "colab": {
     "autoexec": {
      "startup": false,
      "wait_interval": 0
     },
     "output_extras": [
      {
       "item_id": 1
      }
     ]
    },
    "colab_type": "code",
    "executionInfo": {
     "elapsed": 186058,
     "status": "ok",
     "timestamp": 1444485672507,
     "user": {
      "color": "#1FA15D",
      "displayName": "Vincent Vanhoucke",
      "isAnonymous": false,
      "isMe": true,
      "permissionId": "05076109866853157986",
      "photoUrl": "//lh6.googleusercontent.com/-cCJa7dTDcgQ/AAAAAAAAAAI/AAAAAAAACgw/r2EZ_8oYer4/s50-c-k-no/photo.jpg",
      "sessionId": "2a0a5e044bb03b66",
      "userId": "102167687554210253930"
     },
     "user_tz": 420
    },
    "id": "EYRJ4ICW6-da",
    "outputId": "0d0f85df-155f-4a89-8e7e-ee32df36ec8d"
   },
   "outputs": [
    {
     "name": "stdout",
     "output_type": "stream",
     "text": [
      "Found and verified ./notMNIST_large.tar.gz\n",
      "Found and verified ./notMNIST_small.tar.gz\n"
     ]
    }
   ],
   "source": [
    "url = 'https://commondatastorage.googleapis.com/books1000/'\n",
    "last_percent_reported = None\n",
    "data_root = '.' # Change me to store data elsewhere\n",
    "\n",
    "def download_progress_hook(count, blockSize, totalSize):\n",
    "  \"\"\"A hook to report the progress of a download. This is mostly intended for users with\n",
    "  slow internet connections. Reports every 5% change in download progress.\n",
    "  \"\"\"\n",
    "  global last_percent_reported\n",
    "  percent = int(count * blockSize * 100 / totalSize)\n",
    "\n",
    "  if last_percent_reported != percent:\n",
    "    if percent % 5 == 0:\n",
    "      sys.stdout.write(\"%s%%\" % percent)\n",
    "      sys.stdout.flush()\n",
    "    else:\n",
    "      sys.stdout.write(\".\")\n",
    "      sys.stdout.flush()\n",
    "      \n",
    "    last_percent_reported = percent\n",
    "        \n",
    "def maybe_download(filename, expected_bytes, force=False):\n",
    "  \"\"\"Download a file if not present, and make sure it's the right size.\"\"\"\n",
    "  dest_filename = os.path.join(data_root, filename)\n",
    "  if force or not os.path.exists(dest_filename):\n",
    "    print('Attempting to download:', filename) \n",
    "    filename, _ = urlretrieve(url + filename, dest_filename, reporthook=download_progress_hook)\n",
    "    print('\\nDownload Complete!')\n",
    "  statinfo = os.stat(dest_filename)\n",
    "  if statinfo.st_size == expected_bytes:\n",
    "    print('Found and verified', dest_filename)\n",
    "  else:\n",
    "    raise Exception(\n",
    "      'Failed to verify ' + dest_filename + '. Can you get to it with a browser?')\n",
    "  return dest_filename\n",
    "\n",
    "train_filename = maybe_download('notMNIST_large.tar.gz', 247336696)\n",
    "test_filename = maybe_download('notMNIST_small.tar.gz', 8458043)"
   ]
  },
  {
   "cell_type": "markdown",
   "metadata": {
    "colab_type": "text",
    "id": "cC3p0oEyF8QT"
   },
   "source": [
    "Extract the dataset from the compressed .tar.gz file.\n",
    "This should give you a set of directories, labeled A through J."
   ]
  },
  {
   "cell_type": "code",
   "execution_count": 30,
   "metadata": {
    "cellView": "both",
    "colab": {
     "autoexec": {
      "startup": false,
      "wait_interval": 0
     },
     "output_extras": [
      {
       "item_id": 1
      }
     ]
    },
    "colab_type": "code",
    "executionInfo": {
     "elapsed": 186055,
     "status": "ok",
     "timestamp": 1444485672525,
     "user": {
      "color": "#1FA15D",
      "displayName": "Vincent Vanhoucke",
      "isAnonymous": false,
      "isMe": true,
      "permissionId": "05076109866853157986",
      "photoUrl": "//lh6.googleusercontent.com/-cCJa7dTDcgQ/AAAAAAAAAAI/AAAAAAAACgw/r2EZ_8oYer4/s50-c-k-no/photo.jpg",
      "sessionId": "2a0a5e044bb03b66",
      "userId": "102167687554210253930"
     },
     "user_tz": 420
    },
    "id": "H8CBE-WZ8nmj",
    "outputId": "ef6c790c-2513-4b09-962e-27c79390c762"
   },
   "outputs": [
    {
     "name": "stdout",
     "output_type": "stream",
     "text": [
      "./notMNIST_large already present - Skipping extraction of ./notMNIST_large.tar.gz.\n",
      "['./notMNIST_large/A', './notMNIST_large/B', './notMNIST_large/C', './notMNIST_large/D', './notMNIST_large/E', './notMNIST_large/F', './notMNIST_large/G', './notMNIST_large/H', './notMNIST_large/I', './notMNIST_large/J']\n",
      "./notMNIST_small already present - Skipping extraction of ./notMNIST_small.tar.gz.\n",
      "['./notMNIST_small/A', './notMNIST_small/B', './notMNIST_small/C', './notMNIST_small/D', './notMNIST_small/E', './notMNIST_small/F', './notMNIST_small/G', './notMNIST_small/H', './notMNIST_small/I', './notMNIST_small/J']\n"
     ]
    }
   ],
   "source": [
    "num_classes = 10\n",
    "np.random.seed(133)\n",
    "\n",
    "def maybe_extract(filename, force=False):\n",
    "  root = os.path.splitext(os.path.splitext(filename)[0])[0]  # remove .tar.gz\n",
    "  if os.path.isdir(root) and not force:\n",
    "    # You may override by setting force=True.\n",
    "    print('%s already present - Skipping extraction of %s.' % (root, filename))\n",
    "  else:\n",
    "    print('Extracting data for %s. This may take a while. Please wait.' % root)\n",
    "    tar = tarfile.open(filename)\n",
    "    sys.stdout.flush()\n",
    "    tar.extractall(data_root)\n",
    "    tar.close()\n",
    "  data_folders = [\n",
    "    os.path.join(root, d) for d in sorted(os.listdir(root))\n",
    "    if os.path.isdir(os.path.join(root, d))]\n",
    "  if len(data_folders) != num_classes:\n",
    "    raise Exception(\n",
    "      'Expected %d folders, one per class. Found %d instead.' % (\n",
    "        num_classes, len(data_folders)))\n",
    "  print(data_folders)\n",
    "  return data_folders\n",
    "  \n",
    "train_folders = maybe_extract(train_filename)\n",
    "test_folders = maybe_extract(test_filename)"
   ]
  },
  {
   "cell_type": "markdown",
   "metadata": {
    "colab_type": "text",
    "id": "4riXK3IoHgx6"
   },
   "source": [
    "---\n",
    "Problem 1\n",
    "---------\n",
    "\n",
    "Let's take a peek at some of the data to make sure it looks sensible. Each exemplar should be an image of a character A through J rendered in a different font. Display a sample of the images that we just downloaded. Hint: you can use the package IPython.display.\n",
    "\n",
    "---"
   ]
  },
  {
   "cell_type": "code",
   "execution_count": 44,
   "metadata": {},
   "outputs": [
    {
     "data": {
      "image/png": "[encoded data removed]",
      "text/plain": [
       "<IPython.core.display.Image object>"
      ]
     },
     "metadata": {},
     "output_type": "display_data"
    },
    {
     "data": {
      "image/png": "[encoded data removed]",
      "text/plain": [
       "<IPython.core.display.Image object>"
      ]
     },
     "metadata": {},
     "output_type": "display_data"
    },
    {
     "data": {
      "image/png": "[encoded data removed]",
      "text/plain": [
       "<IPython.core.display.Image object>"
      ]
     },
     "metadata": {},
     "output_type": "display_data"
    },
    {
     "data": {
      "image/png": "[encoded data removed]",
      "text/plain": [
       "<IPython.core.display.Image object>"
      ]
     },
     "metadata": {},
     "output_type": "display_data"
    },
    {
     "data": {
      "image/png": "[encoded data removed]",
      "text/plain": [
       "<IPython.core.display.Image object>"
      ]
     },
     "metadata": {},
     "output_type": "display_data"
    },
    {
     "data": {
      "image/png": "[encoded data removed]",
      "text/plain": [
       "<IPython.core.display.Image object>"
      ]
     },
     "metadata": {},
     "output_type": "display_data"
    },
    {
     "data": {
      "image/png": "[encoded data removed]",
      "text/plain": [
       "<IPython.core.display.Image object>"
      ]
     },
     "metadata": {},
     "output_type": "display_data"
    },
    {
     "data": {
      "image/png": "[encoded data removed]",
      "text/plain": [
       "<IPython.core.display.Image object>"
      ]
     },
     "metadata": {},
     "output_type": "display_data"
    },
    {
     "data": {
      "image/png": "[encoded data removed]",
      "text/plain": [
       "<IPython.core.display.Image object>"
      ]
     },
     "metadata": {},
     "output_type": "display_data"
    },
    {
     "data": {
      "image/png": "[encoded data removed]",
      "text/plain": [
       "<IPython.core.display.Image object>"
      ]
     },
     "metadata": {},
     "output_type": "display_data"
    }
   ],
   "source": [
    "\n",
    "for folder in train_folders:\n",
    "    display(Image(data=folder+'/'+os.listdir(folder)[1]))"
   ]
  },
  {
   "cell_type": "markdown",
   "metadata": {
    "colab_type": "text",
    "id": "PBdkjESPK8tw"
   },
   "source": [
    "Now let's load the data in a more manageable format. Since, depending on your computer setup you might not be able to fit it all in memory, we'll load each class into a separate dataset, store them on disk and curate them independently. Later we'll merge them into a single dataset of manageable size.\n",
    "\n",
    "We'll convert the entire dataset into a 3D array (image index, x, y) of floating point values, normalized to have approximately zero mean and standard deviation ~0.5 to make training easier down the road. \n",
    "\n",
    "A few images might not be readable, we'll just skip them."
   ]
  },
  {
   "cell_type": "code",
   "execution_count": 31,
   "metadata": {
    "cellView": "both",
    "colab": {
     "autoexec": {
      "startup": false,
      "wait_interval": 0
     },
     "output_extras": [
      {
       "item_id": 30
      }
     ]
    },
    "colab_type": "code",
    "executionInfo": {
     "elapsed": 399874,
     "status": "ok",
     "timestamp": 1444485886378,
     "user": {
      "color": "#1FA15D",
      "displayName": "Vincent Vanhoucke",
      "isAnonymous": false,
      "isMe": true,
      "permissionId": "05076109866853157986",
      "photoUrl": "//lh6.googleusercontent.com/-cCJa7dTDcgQ/AAAAAAAAAAI/AAAAAAAACgw/r2EZ_8oYer4/s50-c-k-no/photo.jpg",
      "sessionId": "2a0a5e044bb03b66",
      "userId": "102167687554210253930"
     },
     "user_tz": 420
    },
    "id": "h7q0XhG3MJdf",
    "outputId": "92c391bb-86ff-431d-9ada-315568a19e59"
   },
   "outputs": [
    {
     "name": "stdout",
     "output_type": "stream",
     "text": [
      "./notMNIST_large/A.pickle already present - Skipping pickling.\n",
      "./notMNIST_large/B.pickle already present - Skipping pickling.\n",
      "./notMNIST_large/C.pickle already present - Skipping pickling.\n",
      "./notMNIST_large/D.pickle already present - Skipping pickling.\n",
      "./notMNIST_large/E.pickle already present - Skipping pickling.\n",
      "./notMNIST_large/F.pickle already present - Skipping pickling.\n",
      "./notMNIST_large/G.pickle already present - Skipping pickling.\n",
      "./notMNIST_large/H.pickle already present - Skipping pickling.\n",
      "./notMNIST_large/I.pickle already present - Skipping pickling.\n",
      "./notMNIST_large/J.pickle already present - Skipping pickling.\n",
      "./notMNIST_small/A.pickle already present - Skipping pickling.\n",
      "./notMNIST_small/B.pickle already present - Skipping pickling.\n",
      "./notMNIST_small/C.pickle already present - Skipping pickling.\n",
      "./notMNIST_small/D.pickle already present - Skipping pickling.\n",
      "./notMNIST_small/E.pickle already present - Skipping pickling.\n",
      "./notMNIST_small/F.pickle already present - Skipping pickling.\n",
      "./notMNIST_small/G.pickle already present - Skipping pickling.\n",
      "./notMNIST_small/H.pickle already present - Skipping pickling.\n",
      "./notMNIST_small/I.pickle already present - Skipping pickling.\n",
      "./notMNIST_small/J.pickle already present - Skipping pickling.\n"
     ]
    }
   ],
   "source": [
    "image_size = 28  # Pixel width and height.\n",
    "pixel_depth = 255.0  # Number of levels per pixel.\n",
    "\n",
    "def load_letter(folder, min_num_images):\n",
    "  \"\"\"Load the data for a single letter label.\"\"\"\n",
    "  image_files = os.listdir(folder)\n",
    "  dataset = np.ndarray(shape=(len(image_files), image_size, image_size),\n",
    "                         dtype=np.float32)\n",
    "  print(folder)\n",
    "  num_images = 0\n",
    "  for image in image_files:\n",
    "    image_file = os.path.join(folder, image)\n",
    "    try:\n",
    "      image_data = (ndimage.imread(image_file).astype(float) - \n",
    "                    pixel_depth / 2) / pixel_depth\n",
    "      if image_data.shape != (image_size, image_size):\n",
    "        raise Exception('Unexpected image shape: %s' % str(image_data.shape))\n",
    "      dataset[num_images, :, :] = image_data\n",
    "      num_images = num_images + 1\n",
    "    except IOError as e:\n",
    "      print('Could not read:', image_file, ':', e, '- it\\'s ok, skipping.')\n",
    "    \n",
    "  dataset = dataset[0:num_images, :, :]\n",
    "  if num_images < min_num_images:\n",
    "    raise Exception('Many fewer images than expected: %d < %d' %\n",
    "                    (num_images, min_num_images))\n",
    "    \n",
    "  print('Full dataset tensor:', dataset.shape)\n",
    "  print('Mean:', np.mean(dataset))\n",
    "  print('Standard deviation:', np.std(dataset))\n",
    "  return dataset\n",
    "        \n",
    "def maybe_pickle(data_folders, min_num_images_per_class, force=False):\n",
    "  dataset_names = []\n",
    "  for folder in data_folders:\n",
    "    set_filename = folder + '.pickle'\n",
    "    dataset_names.append(set_filename)\n",
    "    if os.path.exists(set_filename) and not force:\n",
    "      # You may override by setting force=True.\n",
    "      print('%s already present - Skipping pickling.' % set_filename)\n",
    "    else:\n",
    "      print('Pickling %s.' % set_filename)\n",
    "      dataset = load_letter(folder, min_num_images_per_class)\n",
    "      try:\n",
    "        with open(set_filename, 'wb') as f:\n",
    "          pickle.dump(dataset, f, pickle.HIGHEST_PROTOCOL)\n",
    "      except Exception as e:\n",
    "        print('Unable to save data to', set_filename, ':', e)\n",
    "  \n",
    "  return dataset_names\n",
    "\n",
    "train_datasets = maybe_pickle(train_folders, 45000)\n",
    "test_datasets = maybe_pickle(test_folders, 1800)"
   ]
  },
  {
   "cell_type": "markdown",
   "metadata": {
    "colab_type": "text",
    "id": "vUdbskYE2d87"
   },
   "source": [
    "---\n",
    "Problem 2\n",
    "---------\n",
    "\n",
    "Let's verify that the data still looks good. Displaying a sample of the labels and images from the ndarray. Hint: you can use matplotlib.pyplot.\n",
    "\n",
    "---"
   ]
  },
  {
   "cell_type": "code",
   "execution_count": 32,
   "metadata": {},
   "outputs": [
    {
     "data": {
      "image/png": "[encoded data removed]",
      "text/plain": [
       "<matplotlib.figure.Figure at 0x7f75cf6ef6a0>"
      ]
     },
     "metadata": {},
     "output_type": "display_data"
    },
    {
     "data": {
      "image/png": "[encoded data removed]",
      "text/plain": [
       "<matplotlib.figure.Figure at 0x7f75cf629d68>"
      ]
     },
     "metadata": {},
     "output_type": "display_data"
    },
    {
     "data": {
      "image/png": "[encoded data removed]",
      "text/plain": [
       "<matplotlib.figure.Figure at 0x7f75cf58b160>"
      ]
     },
     "metadata": {},
     "output_type": "display_data"
    },
    {
     "data": {
      "image/png": "[encoded data removed]",
      "text/plain": [
       "<matplotlib.figure.Figure at 0x7f75cf5a8320>"
      ]
     },
     "metadata": {},
     "output_type": "display_data"
    },
    {
     "data": {
      "image/png": "[encoded data removed]",
      "text/plain": [
       "<matplotlib.figure.Figure at 0x7f75cf6ecc88>"
      ]
     },
     "metadata": {},
     "output_type": "display_data"
    },
    {
     "data": {
      "image/png": "[encoded data removed]",
      "text/plain": [
       "<matplotlib.figure.Figure at 0x7f75cf74de48>"
      ]
     },
     "metadata": {},
     "output_type": "display_data"
    },
    {
     "data": {
      "image/png": "[encoded data removed]",
      "text/plain": [
       "<matplotlib.figure.Figure at 0x7f75d095a160>"
      ]
     },
     "metadata": {},
     "output_type": "display_data"
    },
    {
     "data": {
      "image/png": "[encoded data removed]",
      "text/plain": [
       "<matplotlib.figure.Figure at 0x7f75cf5ed940>"
      ]
     },
     "metadata": {},
     "output_type": "display_data"
    },
    {
     "data": {
      "image/png": "[encoded data removed]",
      "text/plain": [
       "<matplotlib.figure.Figure at 0x7f75d08e8278>"
      ]
     },
     "metadata": {},
     "output_type": "display_data"
    },
    {
     "data": {
      "image/png": "[encoded data removed]",
      "text/plain": [
       "<matplotlib.figure.Figure at 0x7f75cf51a3c8>"
      ]
     },
     "metadata": {},
     "output_type": "display_data"
    }
   ],
   "source": [
    "#pickfile = open(train_datasets[0], 'rb')\n",
    "\n",
    "for pick in train_datasets:\n",
    "    pickfile = open(pick, 'rb')\n",
    "\n",
    "    plt.imshow(pickle.load(pickfile)[0][:][:])\n",
    "    plt.colorbar()\n",
    "    plt.show()\n",
    "\n"
   ]
  },
  {
   "cell_type": "markdown",
   "metadata": {
    "colab_type": "text",
    "id": "cYznx5jUwzoO"
   },
   "source": [
    "---\n",
    "Problem 3\n",
    "---------\n",
    "Another check: we expect the data to be balanced across classes. Verify that.\n",
    "\n",
    "---"
   ]
  },
  {
   "cell_type": "code",
   "execution_count": 33,
   "metadata": {},
   "outputs": [
    {
     "name": "stdout",
     "output_type": "stream",
     "text": [
      "Train:\n",
      "A  :  52909\n",
      "B  :  52911\n",
      "C  :  52912\n",
      "D  :  52911\n",
      "E  :  52912\n",
      "F  :  52912\n",
      "G  :  52912\n",
      "H  :  52912\n",
      "I  :  52912\n",
      "J  :  52911\n",
      "Test:\n",
      "A  :  1872\n",
      "B  :  1873\n",
      "C  :  1873\n",
      "D  :  1873\n",
      "E  :  1873\n",
      "F  :  1872\n",
      "G  :  1872\n",
      "H  :  1872\n",
      "I  :  1872\n",
      "J  :  1872\n"
     ]
    }
   ],
   "source": [
    "letters = ['A', 'B', 'C', 'D', 'E', 'F', 'G', 'H', 'I','J']\n",
    "print (\"Train:\")\n",
    "\n",
    "\n",
    "for index, pick in enumerate(train_datasets):\n",
    "    pickfile = open(pick, 'rb')\n",
    "    print (letters[index], ' : ',  pickle.load(pickfile).shape[0])\n",
    "    \n",
    "print (\"Test:\")\n",
    "\n",
    "for index, pick in enumerate(test_datasets):\n",
    "    pickfile = open(pick, 'rb')\n",
    "    print (letters[index], ' : ',  pickle.load(pickfile).shape[0])"
   ]
  },
  {
   "cell_type": "markdown",
   "metadata": {
    "colab_type": "text",
    "id": "LA7M7K22ynCt"
   },
   "source": [
    "Merge and prune the training data as needed. Depending on your computer setup, you might not be able to fit it all in memory, and you can tune `train_size` as needed. The labels will be stored into a separate array of integers 0 through 9.\n",
    "\n",
    "Also create a validation dataset for hyperparameter tuning."
   ]
  },
  {
   "cell_type": "code",
   "execution_count": 34,
   "metadata": {
    "cellView": "both",
    "colab": {
     "autoexec": {
      "startup": false,
      "wait_interval": 0
     },
     "output_extras": [
      {
       "item_id": 1
      }
     ]
    },
    "colab_type": "code",
    "executionInfo": {
     "elapsed": 411281,
     "status": "ok",
     "timestamp": 1444485897869,
     "user": {
      "color": "#1FA15D",
      "displayName": "Vincent Vanhoucke",
      "isAnonymous": false,
      "isMe": true,
      "permissionId": "05076109866853157986",
      "photoUrl": "//lh6.googleusercontent.com/-cCJa7dTDcgQ/AAAAAAAAAAI/AAAAAAAACgw/r2EZ_8oYer4/s50-c-k-no/photo.jpg",
      "sessionId": "2a0a5e044bb03b66",
      "userId": "102167687554210253930"
     },
     "user_tz": 420
    },
    "id": "s3mWgZLpyuzq",
    "outputId": "8af66da6-902d-4719-bedc-7c9fb7ae7948"
   },
   "outputs": [
    {
     "name": "stdout",
     "output_type": "stream",
     "text": [
      "Training: (200000, 28, 28) (200000,)\n",
      "Validation: (10000, 28, 28) (10000,)\n",
      "Testing: (10000, 28, 28) (10000,)\n"
     ]
    }
   ],
   "source": [
    "def make_arrays(nb_rows, img_size):\n",
    "  if nb_rows:\n",
    "    dataset = np.ndarray((nb_rows, img_size, img_size), dtype=np.float32)\n",
    "    labels = np.ndarray(nb_rows, dtype=np.int32)\n",
    "  else:\n",
    "    dataset, labels = None, None\n",
    "  return dataset, labels\n",
    "\n",
    "def merge_datasets(pickle_files, train_size, valid_size=0):\n",
    "  num_classes = len(pickle_files)\n",
    "  valid_dataset, valid_labels = make_arrays(valid_size, image_size)\n",
    "  train_dataset, train_labels = make_arrays(train_size, image_size)\n",
    "  vsize_per_class = valid_size // num_classes\n",
    "  tsize_per_class = train_size // num_classes\n",
    "    \n",
    "  start_v, start_t = 0, 0\n",
    "  end_v, end_t = vsize_per_class, tsize_per_class\n",
    "  end_l = vsize_per_class+tsize_per_class\n",
    "  for label, pickle_file in enumerate(pickle_files):       \n",
    "    try:\n",
    "      with open(pickle_file, 'rb') as f:\n",
    "        letter_set = pickle.load(f)\n",
    "        # let's shuffle the letters to have random validation and training set\n",
    "        np.random.shuffle(letter_set)\n",
    "        if valid_dataset is not None:\n",
    "          valid_letter = letter_set[:vsize_per_class, :, :]\n",
    "          valid_dataset[start_v:end_v, :, :] = valid_letter\n",
    "          valid_labels[start_v:end_v] = label\n",
    "          start_v += vsize_per_class\n",
    "          end_v += vsize_per_class\n",
    "                    \n",
    "        train_letter = letter_set[vsize_per_class:end_l, :, :]\n",
    "        train_dataset[start_t:end_t, :, :] = train_letter\n",
    "        train_labels[start_t:end_t] = label\n",
    "        start_t += tsize_per_class\n",
    "        end_t += tsize_per_class\n",
    "    except Exception as e:\n",
    "      print('Unable to process data from', pickle_file, ':', e)\n",
    "      raise\n",
    "    \n",
    "  return valid_dataset, valid_labels, train_dataset, train_labels\n",
    "            \n",
    "            \n",
    "train_size = 200000\n",
    "valid_size = 10000\n",
    "test_size = 10000\n",
    "\n",
    "valid_dataset, valid_labels, train_dataset, train_labels = merge_datasets(\n",
    "  train_datasets, train_size, valid_size)\n",
    "_, _, test_dataset, test_labels = merge_datasets(test_datasets, test_size)\n",
    "\n",
    "print('Training:', train_dataset.shape, train_labels.shape)\n",
    "print('Validation:', valid_dataset.shape, valid_labels.shape)\n",
    "print('Testing:', test_dataset.shape, test_labels.shape)"
   ]
  },
  {
   "cell_type": "markdown",
   "metadata": {
    "colab_type": "text",
    "id": "GPTCnjIcyuKN"
   },
   "source": [
    "Next, we'll randomize the data. It's important to have the labels well shuffled for the training and test distributions to match."
   ]
  },
  {
   "cell_type": "code",
   "execution_count": 36,
   "metadata": {
    "cellView": "both",
    "colab": {
     "autoexec": {
      "startup": false,
      "wait_interval": 0
     }
    },
    "colab_type": "code",
    "id": "6WZ2l2tN2zOL"
   },
   "outputs": [],
   "source": [
    "def randomize(dataset, labels):\n",
    "  permutation = np.random.permutation(labels.shape[0])\n",
    "  shuffled_dataset = dataset[permutation,:,:]\n",
    "  shuffled_labels = labels[permutation]\n",
    "  return shuffled_dataset, shuffled_labels\n",
    "train_dataset, train_labels = randomize(train_dataset, train_labels)\n",
    "test_dataset, test_labels = randomize(test_dataset, test_labels)\n",
    "valid_dataset, valid_labels = randomize(valid_dataset, valid_labels)"
   ]
  },
  {
   "cell_type": "markdown",
   "metadata": {
    "colab_type": "text",
    "id": "puDUTe6t6USl"
   },
   "source": [
    "---\n",
    "Problem 4\n",
    "---------\n",
    "Convince yourself that the data is still good after shuffling!\n",
    "\n",
    "---"
   ]
  },
  {
   "cell_type": "code",
   "execution_count": 37,
   "metadata": {},
   "outputs": [
    {
     "name": "stdout",
     "output_type": "stream",
     "text": [
      "Train:\n",
      "(200000,)\n",
      "Counter({0: 20000, 1: 20000, 2: 20000, 3: 20000, 4: 20000, 5: 20000, 6: 20000, 7: 20000, 8: 20000, 9: 20000})\n",
      "Test:\n",
      "(10000,)\n",
      "Counter({0: 1000, 1: 1000, 2: 1000, 3: 1000, 4: 1000, 5: 1000, 6: 1000, 7: 1000, 8: 1000, 9: 1000})\n",
      "Valid:\n",
      "(10000,)\n",
      "Counter({0: 1000, 1: 1000, 2: 1000, 3: 1000, 4: 1000, 5: 1000, 6: 1000, 7: 1000, 8: 1000, 9: 1000})\n"
     ]
    }
   ],
   "source": [
    "import collections\n",
    "\n",
    "print ('Train:')\n",
    "print (train_labels.shape)\n",
    "print (collections.Counter(train_labels))\n",
    "\n",
    "print ('Test:')\n",
    "print (test_labels.shape)\n",
    "print (collections.Counter(test_labels))\n",
    "\n",
    "print ('Valid:')\n",
    "print (valid_labels.shape)\n",
    "print (collections.Counter(valid_labels))"
   ]
  },
  {
   "cell_type": "code",
   "execution_count": 38,
   "metadata": {},
   "outputs": [
    {
     "name": "stdout",
     "output_type": "stream",
     "text": [
      "Label: A\n"
     ]
    },
    {
     "data": {
      "image/png": "[encoded data removed]",
      "text/plain": [
       "<matplotlib.figure.Figure at 0x7f75cf43fe48>"
      ]
     },
     "metadata": {},
     "output_type": "display_data"
    },
    {
     "name": "stdout",
     "output_type": "stream",
     "text": [
      "Label: E\n"
     ]
    },
    {
     "data": {
      "image/png": "[encoded data removed]",
      "text/plain": [
       "<matplotlib.figure.Figure at 0x7f75cf407f60>"
      ]
     },
     "metadata": {},
     "output_type": "display_data"
    },
    {
     "name": "stdout",
     "output_type": "stream",
     "text": [
      "Label: I\n"
     ]
    },
    {
     "data": {
      "image/png": "[encoded data removed]",
      "text/plain": [
       "<matplotlib.figure.Figure at 0x7f75cf3c0da0>"
      ]
     },
     "metadata": {},
     "output_type": "display_data"
    }
   ],
   "source": [
    "letters = ['A', 'B', 'C', 'D', 'E', 'F', 'G', 'H', 'I','J']\n",
    "index = np.random.randint(10000, size=1)[0]\n",
    "print (\"Label: %s\" % letters[train_labels[index]])\n",
    "plt.imshow(train_dataset[index])\n",
    "plt.show()\n",
    "\n",
    "print (\"Label: %s\" % letters[test_labels[index]])\n",
    "plt.imshow(test_dataset[index])\n",
    "plt.show()\n",
    "\n",
    "print (\"Label: %s\" % letters[valid_labels[index]])\n",
    "plt.imshow(valid_dataset[index])\n",
    "plt.show()"
   ]
  },
  {
   "cell_type": "markdown",
   "metadata": {
    "colab_type": "text",
    "id": "tIQJaJuwg5Hw"
   },
   "source": [
    "Finally, let's save the data for later reuse:"
   ]
  },
  {
   "cell_type": "code",
   "execution_count": null,
   "metadata": {
    "cellView": "both",
    "colab": {
     "autoexec": {
      "startup": false,
      "wait_interval": 0
     }
    },
    "colab_type": "code",
    "id": "QiR_rETzem6C"
   },
   "outputs": [],
   "source": [
    "pickle_file = os.path.join(data_root, 'notMNIST.pickle')\n",
    "\n",
    "try:\n",
    "  f = open(pickle_file, 'wb')\n",
    "  save = {\n",
    "    'train_dataset': train_dataset,\n",
    "    'train_labels': train_labels,\n",
    "    'valid_dataset': valid_dataset,\n",
    "    'valid_labels': valid_labels,\n",
    "    'test_dataset': test_dataset,\n",
    "    'test_labels': test_labels,\n",
    "    }\n",
    "  pickle.dump(save, f, pickle.HIGHEST_PROTOCOL)\n",
    "  f.close()\n",
    "except Exception as e:\n",
    "  print('Unable to save data to', pickle_file, ':', e)\n",
    "  raise"
   ]
  },
  {
   "cell_type": "code",
   "execution_count": 2,
   "metadata": {},
   "outputs": [
    {
     "name": "stdout",
     "output_type": "stream",
     "text": [
      "(200000, 28, 28)\n"
     ]
    }
   ],
   "source": [
    "data_root = '.'\n",
    "pickle_file = open(os.path.join(data_root, 'notMNIST.pickle'), 'rb')\n",
    "\n",
    "dict_ds = pickle.load(pickle_file)\n",
    "train_dataset = dict_ds['train_dataset']\n",
    "train_labels = dict_ds['train_labels']\n",
    "valid_dataset = dict_ds['valid_dataset']\n",
    "valid_labels = dict_ds['valid_labels']\n",
    "test_dataset = dict_ds['test_dataset']\n",
    "test_labels = dict_ds['test_labels']\n",
    "dict_ds.clear()\n",
    "\n",
    "pickle_file.close()\n",
    "print (train_dataset.shape)"
   ]
  },
  {
   "cell_type": "code",
   "execution_count": 134,
   "metadata": {},
   "outputs": [
    {
     "name": "stdout",
     "output_type": "stream",
     "text": [
      "[[-0.5        -0.5        -0.5        -0.5        -0.5        -0.5        -0.5\n",
      "  -0.5        -0.5        -0.48823529 -0.48823529 -0.5        -0.5        -0.5\n",
      "  -0.44509804 -0.30392158 -0.0882353   0.0882353   0.2254902   0.35882354\n",
      "   0.43725491  0.48431373  0.46862745  0.37843138  0.18627451 -0.19411765\n",
      "  -0.5        -0.49215686]\n",
      " [-0.5        -0.5        -0.5        -0.5        -0.5        -0.5        -0.5\n",
      "  -0.48823529 -0.49215686 -0.49607843 -0.5        -0.40588236 -0.13921569\n",
      "   0.1509804   0.37058824  0.48823529  0.5         0.5         0.5         0.5\n",
      "   0.5         0.5         0.5         0.5         0.49607843  0.5\n",
      "   0.06470589 -0.49607843]\n",
      " [-0.5        -0.5        -0.5        -0.5        -0.5        -0.48823529\n",
      "  -0.49215686 -0.5        -0.5        -0.30392158  0.10784314  0.43333334\n",
      "   0.5         0.49607843  0.5         0.5         0.5         0.5         0.5\n",
      "   0.5         0.5         0.49607843  0.49607843  0.49607843  0.48823529\n",
      "   0.48823529  0.5        -0.09215686]\n",
      " [-0.5        -0.5        -0.5        -0.5        -0.49215686 -0.5        -0.5\n",
      "  -0.29215688  0.18235295  0.48431373  0.5         0.49607843  0.48823529\n",
      "   0.48823529  0.5         0.47647059  0.35490197  0.16666667  0.05294118\n",
      "   0.03333334  0.2372549   0.49215686  0.5         0.5         0.5\n",
      "   0.49215686  0.5         0.28431374]\n",
      " [-0.5        -0.5        -0.5        -0.49215686 -0.5        -0.33137256\n",
      "   0.17843138  0.48431373  0.5         0.49607843  0.48823529  0.49607843\n",
      "   0.49607843  0.5         0.13529412 -0.3392157  -0.47647059 -0.5\n",
      "  -0.49607843 -0.49215686 -0.5         0.0254902   0.5         0.49215686\n",
      "   0.5         0.5         0.5         0.46078432]\n",
      " [-0.5        -0.5        -0.49607843 -0.5        -0.05686275  0.46862745\n",
      "   0.5         0.49215686  0.5         0.47647059  0.49607843  0.5\n",
      "   0.49215686  0.5         0.34313726 -0.39019608 -0.5        -0.48431373\n",
      "  -0.48823529 -0.48039216 -0.5        -0.38627452  0.47254902  0.5         0.5\n",
      "   0.5         0.5         0.44901961]\n",
      " [-0.5        -0.49215686 -0.5        -0.02941176  0.5         0.49215686\n",
      "   0.49607843  0.5         0.22156863  0.13137256  0.5         0.5\n",
      "   0.48823529  0.5         0.31176472 -0.44117647 -0.5        -0.49607843\n",
      "  -0.5        -0.49607843 -0.5        -0.42941177  0.46470588  0.5\n",
      "   0.49607843  0.49607843  0.5         0.31568629]\n",
      " [-0.49607843 -0.49607843 -0.5         0.24509804  0.5         0.43333334\n",
      "   0.2372549  -0.22156863 -0.40588236  0.35882354  0.5         0.49215686\n",
      "   0.49215686  0.5        -0.07254902 -0.5        -0.48823529 -0.5        -0.5\n",
      "  -0.49607843 -0.5        -0.31568629  0.48431373  0.5         0.5\n",
      "   0.48823529  0.5         0.05294118]\n",
      " [-0.5        -0.49607843 -0.5        -0.4137255  -0.24117647 -0.38627452\n",
      "  -0.5        -0.5         0.08431373  0.5         0.48823529  0.49215686\n",
      "   0.5         0.2372549  -0.49607843 -0.5        -0.5        -0.5        -0.5\n",
      "  -0.48823529 -0.5        -0.05686275  0.5         0.49607843  0.49607843\n",
      "   0.5         0.5        -0.23333333]\n",
      " [-0.5        -0.5        -0.5        -0.5        -0.5        -0.49215686\n",
      "  -0.5        -0.25686276  0.49215686  0.5         0.49607843  0.5\n",
      "   0.44509804 -0.31176472 -0.5        -0.48823529 -0.5        -0.5\n",
      "  -0.49607843 -0.5        -0.48823529  0.26862746  0.5         0.48823529\n",
      "   0.48823529  0.5         0.26078433 -0.48039216]\n",
      " [-0.5        -0.5        -0.5        -0.49607843 -0.48431373 -0.49215686\n",
      "  -0.49607843  0.24117647  0.5         0.48823529  0.48823529  0.5\n",
      "   0.02941176 -0.5        -0.48431373 -0.5        -0.5        -0.5\n",
      "  -0.48823529 -0.5        -0.20588236  0.5         0.49215686  0.49607843\n",
      "   0.49215686  0.5        -0.10392157 -0.5       ]\n",
      " [-0.5        -0.5        -0.5        -0.5        -0.48823529 -0.5\n",
      "  -0.14313726  0.5         0.49215686  0.49215686  0.5         0.35882354\n",
      "  -0.44509804 -0.5        -0.49607843 -0.5        -0.5        -0.5\n",
      "  -0.49607843 -0.5         0.20588236  0.5         0.49215686  0.49215686\n",
      "   0.5         0.32352942 -0.46862745 -0.5       ]\n",
      " [-0.5        -0.5        -0.5        -0.5        -0.5        -0.46078432\n",
      "   0.3392157   0.5         0.49215686  0.49215686  0.5        -0.1509804\n",
      "  -0.5        -0.48823529 -0.5        -0.5        -0.5        -0.48823529\n",
      "  -0.5        -0.18235295  0.5         0.49607843  0.49607843  0.48823529\n",
      "   0.5        -0.19019608 -0.5        -0.48823529]\n",
      " [-0.5        -0.5        -0.5        -0.48431373 -0.5        -0.0372549\n",
      "   0.5         0.49215686  0.48823529  0.5         0.19411765 -0.5\n",
      "  -0.49607843 -0.49607843 -0.5        -0.5        -0.49607843 -0.5\n",
      "  -0.41764706  0.3392157   0.5         0.49215686  0.48431373  0.5\n",
      "   0.11960784 -0.5        -0.49215686 -0.5       ]\n",
      " [-0.5        -0.5        -0.49215686 -0.5        -0.39019608  0.36666667\n",
      "   0.5         0.48823529  0.5         0.45686275 -0.33137256 -0.5\n",
      "  -0.49215686 -0.5        -0.5        -0.5        -0.49215686 -0.5\n",
      "   0.06470589  0.5         0.48823529  0.49215686  0.5         0.31176472\n",
      "  -0.44117647 -0.5        -0.49607843 -0.5       ]\n",
      " [-0.5        -0.5        -0.48823529 -0.5        -0.00588235  0.5\n",
      "   0.48431373  0.48823529  0.5        -0.01372549 -0.5        -0.48823529\n",
      "  -0.5        -0.5        -0.5        -0.48431373 -0.5        -0.15882353\n",
      "   0.5         0.5         0.48823529  0.5         0.40980393 -0.33529413\n",
      "  -0.5        -0.48823529 -0.5        -0.5       ]\n",
      " [-0.5        -0.49607843 -0.5        -0.39803922  0.42941177  0.5\n",
      "   0.48823529  0.5         0.32352942 -0.43333334 -0.5        -0.49607843\n",
      "  -0.5        -0.5        -0.48431373 -0.5        -0.2647059   0.44509804\n",
      "   0.5         0.48823529  0.5         0.45686275 -0.24509804 -0.5\n",
      "  -0.48823529 -0.5        -0.5        -0.5       ]\n",
      " [-0.5        -0.48431373 -0.5         0.04117647  0.5         0.48823529\n",
      "   0.49215686  0.5        -0.09215686 -0.5        -0.48823529 -0.5        -0.5\n",
      "  -0.48823529 -0.5        -0.3392157   0.38627452  0.5         0.48431373\n",
      "   0.5         0.46862745 -0.18235295 -0.5        -0.48823529 -0.5        -0.5\n",
      "  -0.5        -0.5       ]\n",
      " [-0.49215686 -0.5        -0.3392157   0.41764706  0.5         0.48823529\n",
      "   0.5         0.31568629 -0.48039216 -0.5        -0.5        -0.5\n",
      "  -0.48431373 -0.5        -0.32352942  0.37450981  0.5         0.48039216\n",
      "   0.5         0.47647059 -0.18235295 -0.5        -0.48431373 -0.5        -0.5\n",
      "  -0.5        -0.5        -0.5       ]\n",
      " [-0.49215686 -0.5         0.06078431  0.5         0.48431373  0.48823529\n",
      "   0.5        -0.14313726 -0.5        -0.48823529 -0.49607843 -0.48431373\n",
      "  -0.5        -0.24901961  0.41764706  0.5         0.47647059  0.5\n",
      "   0.44901961 -0.19803922 -0.5        -0.48823529 -0.5        -0.5        -0.5\n",
      "  -0.5        -0.5        -0.5       ]\n",
      " [-0.5        -0.32352942  0.47254902  0.5         0.48823529  0.5\n",
      "   0.28039217 -0.47647059 -0.5        -0.48431373 -0.49215686 -0.5\n",
      "  -0.14313726  0.45294118  0.5         0.47254902  0.5         0.39019608\n",
      "  -0.26862746 -0.5        -0.48431373 -0.5        -0.5        -0.5        -0.5\n",
      "  -0.5        -0.5        -0.5       ]\n",
      " [-0.5         0.13137256  0.5         0.48431373  0.5         0.5\n",
      "  -0.15882353 -0.5        -0.48039216 -0.5        -0.46078432  0.06862745\n",
      "   0.5         0.48039216  0.48039216  0.5         0.24509804 -0.38235295\n",
      "  -0.5        -0.48823529 -0.5        -0.5        -0.5        -0.5        -0.5\n",
      "  -0.5        -0.5        -0.5       ]\n",
      " [-0.30392158  0.43333334  0.5         0.48823529  0.5         0.32352942\n",
      "  -0.48039216 -0.5        -0.49215686 -0.22156863  0.33137256  0.5\n",
      "   0.47647059  0.5         0.48823529  0.0254902  -0.48431373 -0.5\n",
      "  -0.49215686 -0.5        -0.5        -0.5        -0.5        -0.5        -0.5\n",
      "  -0.5        -0.5        -0.5       ]\n",
      " [ 0.0372549   0.5         0.48823529  0.49215686  0.5         0.20588236\n",
      "  -0.33529413 -0.1         0.25294119  0.48823529  0.5         0.48823529\n",
      "   0.5         0.33137256 -0.25294119 -0.5        -0.49215686 -0.49215686\n",
      "  -0.5        -0.5        -0.5        -0.5        -0.5        -0.5        -0.5\n",
      "  -0.5        -0.5        -0.5       ]\n",
      " [ 0.40196079  0.5         0.5         0.5         0.5         0.46862745\n",
      "   0.46862745  0.5         0.5         0.49607843  0.5         0.42156863\n",
      "  -0.02156863 -0.45686275 -0.5        -0.48823529 -0.49607843 -0.5        -0.5\n",
      "  -0.5        -0.5        -0.5        -0.5        -0.5        -0.5        -0.5\n",
      "  -0.5        -0.5       ]\n",
      " [ 0.5         0.49215686  0.49607843  0.5         0.49607843  0.49607843\n",
      "   0.5         0.49607843  0.5         0.44117647  0.06470589 -0.39803922\n",
      "  -0.5        -0.49215686 -0.49215686 -0.5        -0.5        -0.5        -0.5\n",
      "  -0.5        -0.5        -0.5        -0.5        -0.5        -0.5        -0.5\n",
      "  -0.5        -0.5       ]\n",
      " [ 0.13921569  0.5         0.49215686  0.5         0.5         0.5         0.5\n",
      "   0.35882354 -0.01372549 -0.39019608 -0.5        -0.49607843 -0.48823529\n",
      "  -0.49607843 -0.5        -0.5        -0.5        -0.5        -0.5        -0.5\n",
      "  -0.5        -0.5        -0.5        -0.5        -0.5        -0.5        -0.5\n",
      "  -0.5       ]\n",
      " [-0.44509804  0.05294118  0.41764706  0.46470588  0.32745099  0.11960784\n",
      "  -0.20196079 -0.45686275 -0.5        -0.49607843 -0.48823529 -0.49215686\n",
      "  -0.5        -0.5        -0.5        -0.5        -0.5        -0.5        -0.5\n",
      "  -0.5        -0.5        -0.5        -0.5        -0.5        -0.5        -0.5\n",
      "  -0.5        -0.5       ]]\n"
     ]
    },
    {
     "data": {
      "image/png": "[encoded data removed]",
      "text/plain": [
       "<matplotlib.figure.Figure at 0x7f75cf144908>"
      ]
     },
     "metadata": {},
     "output_type": "display_data"
    }
   ],
   "source": [
    "plt.imshow(train_dataset[899])\n",
    "print (train_dataset[899])"
   ]
  },
  {
   "cell_type": "code",
   "execution_count": 9,
   "metadata": {
    "cellView": "both",
    "colab": {
     "autoexec": {
      "startup": false,
      "wait_interval": 0
     },
     "output_extras": [
      {
       "item_id": 1
      }
     ]
    },
    "colab_type": "code",
    "executionInfo": {
     "elapsed": 413065,
     "status": "ok",
     "timestamp": 1444485899688,
     "user": {
      "color": "#1FA15D",
      "displayName": "Vincent Vanhoucke",
      "isAnonymous": false,
      "isMe": true,
      "permissionId": "05076109866853157986",
      "photoUrl": "//lh6.googleusercontent.com/-cCJa7dTDcgQ/AAAAAAAAAAI/AAAAAAAACgw/r2EZ_8oYer4/s50-c-k-no/photo.jpg",
      "sessionId": "2a0a5e044bb03b66",
      "userId": "102167687554210253930"
     },
     "user_tz": 420
    },
    "id": "hQbLjrW_iT39",
    "outputId": "b440efc6-5ee1-4cbc-d02d-93db44ebd956"
   },
   "outputs": [
    {
     "ename": "TypeError",
     "evalue": "argument should be string, bytes or integer, not _io.BufferedReader",
     "output_type": "error",
     "traceback": [
      "\u001b[0;31m---------------------------------------------------------------------------\u001b[0m",
      "\u001b[0;31mTypeError\u001b[0m                                 Traceback (most recent call last)",
      "\u001b[0;32m<ipython-input-9-5de34a00c093>\u001b[0m in \u001b[0;36m<module>\u001b[0;34m()\u001b[0m\n\u001b[0;32m----> 1\u001b[0;31m \u001b[0mstatinfo\u001b[0m \u001b[0;34m=\u001b[0m \u001b[0mos\u001b[0m\u001b[0;34m.\u001b[0m\u001b[0mstat\u001b[0m\u001b[0;34m(\u001b[0m\u001b[0mpickle_file\u001b[0m\u001b[0;34m)\u001b[0m\u001b[0;34m\u001b[0m\u001b[0m\n\u001b[0m\u001b[1;32m      2\u001b[0m \u001b[0mprint\u001b[0m\u001b[0;34m(\u001b[0m\u001b[0;34m'Compressed pickle size:'\u001b[0m\u001b[0;34m,\u001b[0m \u001b[0mstatinfo\u001b[0m\u001b[0;34m.\u001b[0m\u001b[0mst_size\u001b[0m\u001b[0;34m)\u001b[0m\u001b[0;34m\u001b[0m\u001b[0m\n",
      "\u001b[0;31mTypeError\u001b[0m: argument should be string, bytes or integer, not _io.BufferedReader"
     ]
    }
   ],
   "source": [
    "statinfo = os.stat(pickle_file)\n",
    "print('Compressed pickle size:', statinfo.st_size)"
   ]
  },
  {
   "cell_type": "markdown",
   "metadata": {
    "colab_type": "text",
    "id": "gE_cRAQB33lk"
   },
   "source": [
    "---\n",
    "Problem 5\n",
    "---------\n",
    "\n",
    "By construction, this dataset might contain a lot of overlapping samples, including training data that's also contained in the validation and test set! Overlap between training and test can skew the results if you expect to use your model in an environment where there is never an overlap, but are actually ok if you expect to see training samples recur when you use it.\n",
    "Measure how much overlap there is between training, validation and test samples.\n",
    "\n",
    "Optional questions:\n",
    "- What about near duplicates between datasets? (images that are almost identical)\n",
    "- Create a sanitized validation and test set, and compare your accuracy on those in subsequent assignments.\n",
    "---"
   ]
  },
  {
   "cell_type": "code",
   "execution_count": 10,
   "metadata": {},
   "outputs": [
    {
     "name": "stdout",
     "output_type": "stream",
     "text": [
      "test hash completed\n",
      "train hash completed\n",
      "valid  hash completed\n",
      "True\n"
     ]
    }
   ],
   "source": [
    "from hashlib import sha256\n",
    "\n",
    "hash_test_ds = np.array([sha256(img).hexdigest() for img in test_dataset])\n",
    "print('test hash completed')\n",
    "hash_train_ds = np.array([sha256(img).hexdigest() for img in train_dataset])\n",
    "print('train hash completed')\n",
    "hash_valid_ds = np.array([sha256(img).hexdigest() for img in valid_dataset])\n",
    "print('valid  hash completed')\n",
    "\n",
    "\n",
    "\n",
    "print (hash_train_ds[0] == hash_train_ds[0])"
   ]
  },
  {
   "cell_type": "code",
   "execution_count": 11,
   "metadata": {},
   "outputs": [
    {
     "data": {
      "application/vnd.jupyter.widget-view+json": {
       "model_id": "a425607654e54a8f98ac3da04b3bedb3",
       "version_major": 2,
       "version_minor": 0
      },
      "text/html": [
       "<p>Failed to display Jupyter Widget of type <code>HBox</code>.</p>\n",
       "<p>\n",
       "  If you're reading this message in Jupyter Notebook or JupyterLab, it may mean\n",
       "  that the widgets JavaScript is still loading. If this message persists, it\n",
       "  likely means that the widgets JavaScript library is either not installed or\n",
       "  not enabled. See the <a href=\"https://ipywidgets.readthedocs.io/en/stable/user_install.html\">Jupyter\n",
       "  Widgets Documentation</a> for setup instructions.\n",
       "</p>\n",
       "<p>\n",
       "  If you're reading this message in another notebook frontend (for example, a static\n",
       "  rendering on GitHub or <a href=\"https://nbviewer.jupyter.org/\">NBViewer</a>),\n",
       "  it may mean that your frontend doesn't currently support widgets.\n",
       "</p>\n"
      ],
      "text/plain": [
       "HBox(children=(IntProgress(value=1, bar_style='info', max=1), HTML(value='')))"
      ]
     },
     "metadata": {},
     "output_type": "display_data"
    },
    {
     "name": "stdout",
     "output_type": "stream",
     "text": [
      "\n"
     ]
    },
    {
     "data": {
      "application/vnd.jupyter.widget-view+json": {
       "model_id": "790311027c3d439f9343c522a5445196",
       "version_major": 2,
       "version_minor": 0
      },
      "text/html": [
       "<p>Failed to display Jupyter Widget of type <code>HBox</code>.</p>\n",
       "<p>\n",
       "  If you're reading this message in Jupyter Notebook or JupyterLab, it may mean\n",
       "  that the widgets JavaScript is still loading. If this message persists, it\n",
       "  likely means that the widgets JavaScript library is either not installed or\n",
       "  not enabled. See the <a href=\"https://ipywidgets.readthedocs.io/en/stable/user_install.html\">Jupyter\n",
       "  Widgets Documentation</a> for setup instructions.\n",
       "</p>\n",
       "<p>\n",
       "  If you're reading this message in another notebook frontend (for example, a static\n",
       "  rendering on GitHub or <a href=\"https://nbviewer.jupyter.org/\">NBViewer</a>),\n",
       "  it may mean that your frontend doesn't currently support widgets.\n",
       "</p>\n"
      ],
      "text/plain": [
       "HBox(children=(IntProgress(value=1, bar_style='info', max=1), HTML(value='')))"
      ]
     },
     "metadata": {},
     "output_type": "display_data"
    },
    {
     "name": "stdout",
     "output_type": "stream",
     "text": [
      "\n"
     ]
    }
   ],
   "source": [
    "test_overlap_index = []\n",
    "valid_overlap_index = []\n",
    "for index, test_img in tqdm_notebook(enumerate(hash_test_ds)):\n",
    "    if (len(np.where(test_img in hash_train_ds)[0])):\n",
    "        test_overlap_index.append(index)\n",
    "        \n",
    "for index, valid_img in tqdm_notebook(enumerate(hash_valid_ds)):\n",
    "    if (len(np.where(valid_img in hash_train_ds)[0])) :\n",
    "        valid_overlap_index.append(index)"
   ]
  },
  {
   "cell_type": "code",
   "execution_count": 12,
   "metadata": {},
   "outputs": [
    {
     "name": "stdout",
     "output_type": "stream",
     "text": [
      "Number of overlaps between test and train : 1183\n",
      "Number of overlaps between valid and train : 1119\n"
     ]
    }
   ],
   "source": [
    "print (\"Number of overlaps between test and train : %d\" % len(test_overlap_index))\n",
    "print (\"Number of overlaps between valid and train : %d\" % len(valid_overlap_index))"
   ]
  },
  {
   "cell_type": "code",
   "execution_count": 14,
   "metadata": {},
   "outputs": [
    {
     "name": "stdout",
     "output_type": "stream",
     "text": [
      "1183\n",
      "(10000, 28, 28)\n",
      "1119\n",
      "(10000, 28, 28)\n"
     ]
    }
   ],
   "source": [
    "test_ds_without_overlap = np.delete(test_dataset, test_overlap_index, axis=0)\n",
    "test_label_without_overlap = np.delete(test_labels, test_overlap_index)\n",
    "#print (test_without_overlap.shape)\n",
    "print (len(test_overlap_index))\n",
    "print (test_dataset.shape)\n",
    "\n",
    "valid_without_overlap = np.delete(valid_dataset, valid_overlap_index, axis=0)\n",
    "valid_label_without_overlap = np.delete(valid_labels, valid_overlap_index)\n",
    "#print (valid_without_overlap.shape)\n",
    "print (len(valid_overlap_index))\n",
    "print (valid_dataset.shape)"
   ]
  },
  {
   "cell_type": "markdown",
   "metadata": {
    "colab_type": "text",
    "id": "L8oww1s4JMQx"
   },
   "source": [
    "---\n",
    "Problem 6\n",
    "---------\n",
    "\n",
    "Let's get an idea of what an off-the-shelf classifier can give you on this data. It's always good to check that there is something to learn, and that it's a problem that is not so trivial that a canned solution solves it.\n",
    "\n",
    "Train a simple model on this data using 50, 100, 1000 and 5000 training samples. Hint: you can use the LogisticRegression model from sklearn.linear_model.\n",
    "\n",
    "Optional question: train an off-the-shelf model on all the data!\n",
    "\n",
    "---"
   ]
  },
  {
   "cell_type": "code",
   "execution_count": 15,
   "metadata": {},
   "outputs": [
    {
     "data": {
      "application/vnd.jupyter.widget-view+json": {
       "model_id": "8bd7dea3c7484e33b204459a091c85c2",
       "version_major": 2,
       "version_minor": 0
      },
      "text/html": [
       "<p>Failed to display Jupyter Widget of type <code>HBox</code>.</p>\n",
       "<p>\n",
       "  If you're reading this message in Jupyter Notebook or JupyterLab, it may mean\n",
       "  that the widgets JavaScript is still loading. If this message persists, it\n",
       "  likely means that the widgets JavaScript library is either not installed or\n",
       "  not enabled. See the <a href=\"https://ipywidgets.readthedocs.io/en/stable/user_install.html\">Jupyter\n",
       "  Widgets Documentation</a> for setup instructions.\n",
       "</p>\n",
       "<p>\n",
       "  If you're reading this message in another notebook frontend (for example, a static\n",
       "  rendering on GitHub or <a href=\"https://nbviewer.jupyter.org/\">NBViewer</a>),\n",
       "  it may mean that your frontend doesn't currently support widgets.\n",
       "</p>\n"
      ],
      "text/plain": [
       "HBox(children=(IntProgress(value=0, max=4), HTML(value='')))"
      ]
     },
     "metadata": {},
     "output_type": "display_data"
    },
    {
     "name": "stderr",
     "output_type": "stream",
     "text": [
      "/usr/local/lib/python3.5/dist-packages/sklearn/model_selection/_split.py:597: Warning: The least populated class in y has only 2 members, which is too few. The minimum number of members in any class cannot be less than n_splits=3.\n",
      "  % (min_groups, self.n_splits)), Warning)\n"
     ]
    },
    {
     "name": "stdout",
     "output_type": "stream",
     "text": [
      "\n",
      "0.8823\n"
     ]
    },
    {
     "data": {
      "image/png": "[encoded data removed]",
      "text/plain": [
       "<matplotlib.figure.Figure at 0x7f75d0882780>"
      ]
     },
     "metadata": {},
     "output_type": "display_data"
    }
   ],
   "source": [
    "from sklearn.linear_model import LogisticRegressionCV\n",
    "from sklearn.metrics import accuracy_score\n",
    "sizes = [50, 100, 1000, 5000]\n",
    "scores = []\n",
    "img_square = train_dataset.shape[1] * train_dataset.shape[2]\n",
    "\n",
    "for size in tqdm_notebook(sizes):\n",
    "    classifier = LogisticRegressionCV()\n",
    "    classifier.fit(np.reshape(train_dataset[:size], (size, img_square)), train_labels[:size])\n",
    "    predicted_labels = classifier.predict(np.reshape(test_dataset, (test_dataset.shape[0], img_square)))\n",
    "    score = accuracy_score(test_labels, predicted_labels)\n",
    "    scores.append(score)\n",
    "    \n",
    "plt.plot(sizes, scores)\n",
    "print (max(scores))"
   ]
  },
  {
   "cell_type": "code",
   "execution_count": null,
   "metadata": {},
   "outputs": [],
   "source": [
    "scores_without_overfit = []\n",
    "for size in tqdm_notebook(sizes):\n",
    "    classifier = LogisticRegressionCV()\n",
    "    classifier.fit(np.reshape(train_dataset[:size], (size, img_square)), train_labels[:size])\n",
    "    predicted_labels = classifier.predict(np.reshape(test_ds_without_overlap, \n",
    "                                                     (test_ds_without_overlap.shape[0], img_square)))\n",
    "    score = accuracy_score(test_label_without_overlap, predicted_labels)\n",
    "    scores_without_overfit.append(score)\n",
    "    \n",
    "\n",
    "    plt.plot(sizes, scores_without_overfit)\n",
    "print (max(scores))"
   ]
  },
  {
   "cell_type": "code",
   "execution_count": 138,
   "metadata": {},
   "outputs": [
    {
     "name": "stdout",
     "output_type": "stream",
     "text": [
      "5141\n",
      "Predicted: F\n",
      "Real: F\n",
      "[[-0.5        -0.5        -0.49607843 -0.5        -0.47254902  0.30392158\n",
      "   0.37843138 -0.07254902 -0.26078433  0.09215686  0.48823529  0.24509804\n",
      "  -0.45686275 -0.46078432 -0.2647059  -0.27254903 -0.24117647 -0.19019608\n",
      "  -0.11960784  0.00196078  0.12352941  0.25294119  0.37843138  0.46470588\n",
      "   0.48039216  0.38235295  0.0372549  -0.45686275]\n",
      " [-0.5        -0.5        -0.49607843 -0.5        -0.4254902   0.4254902\n",
      "   0.5         0.49607843  0.5         0.5         0.48823529  0.5\n",
      "  -0.22156863 -0.34313726  0.48431373  0.5         0.49607843  0.5         0.5\n",
      "   0.5         0.5         0.5         0.5         0.5         0.5\n",
      "   0.49215686  0.5         0.13137256]\n",
      " [-0.5        -0.5        -0.5        -0.49215686 -0.5        -0.15490197\n",
      "   0.49607843  0.49215686  0.49215686  0.48823529  0.49215686  0.5\n",
      "  -0.22941177 -0.5        -0.40196079 -0.30000001 -0.2647059  -0.2372549\n",
      "  -0.20588236 -0.17058824 -0.06470589  0.21372549  0.48823529  0.5         0.5\n",
      "   0.49215686  0.49215686  0.47254902]\n",
      " [-0.5        -0.5        -0.5        -0.5        -0.48823529 -0.5\n",
      "  -0.10784314  0.5         0.49607843  0.49215686  0.5         0.38235295\n",
      "  -0.45294118 -0.5        -0.49607843 -0.5        -0.5        -0.5        -0.5\n",
      "  -0.5        -0.49607843 -0.5        -0.13921569  0.5         0.5\n",
      "   0.49215686  0.5         0.43725491]\n",
      " [-0.5        -0.5        -0.5        -0.5        -0.5        -0.48823529\n",
      "  -0.5         0.22156863  0.5         0.47254902  0.5         0.06862745\n",
      "  -0.5        -0.48823529 -0.49215686 -0.49215686 -0.48823529 -0.48823529\n",
      "  -0.48823529 -0.48431373 -0.48431373 -0.48039216 -0.5         0.14313726\n",
      "   0.5         0.47647059  0.5         0.0882353 ]\n",
      " [-0.5        -0.5        -0.5        -0.5        -0.5        -0.48431373\n",
      "  -0.5         0.11568628  0.5         0.48431373  0.48823529 -0.30392158\n",
      "  -0.5        -0.49215686 -0.5        -0.5        -0.5        -0.5        -0.5\n",
      "  -0.5        -0.5        -0.48823529 -0.5        -0.24509804  0.5         0.5\n",
      "   0.11960784 -0.46862745]\n",
      " [-0.5        -0.5        -0.5        -0.5        -0.49607843 -0.5        -0.5\n",
      "   0.28039217  0.5         0.5         0.21372549 -0.5        -0.49215686\n",
      "  -0.5        -0.5        -0.5        -0.5        -0.5        -0.5        -0.5\n",
      "  -0.5        -0.5        -0.5        -0.48431373 -0.23333333 -0.32352942\n",
      "  -0.5        -0.49607843]\n",
      " [-0.5        -0.5        -0.5        -0.5        -0.49215686 -0.5\n",
      "  -0.3509804   0.47254902  0.5         0.5        -0.17843138 -0.5\n",
      "  -0.48431373 -0.49607843 -0.49607843 -0.49607843 -0.49607843 -0.5        -0.5\n",
      "  -0.5        -0.5        -0.5        -0.5        -0.49607843 -0.5        -0.5\n",
      "  -0.49215686 -0.49607843]\n",
      " [-0.5        -0.5        -0.5        -0.5        -0.48431373 -0.5\n",
      "  -0.05294118  0.5         0.5         0.34705883 -0.46862745 -0.5\n",
      "  -0.49607843 -0.5        -0.5        -0.5        -0.5        -0.49607843\n",
      "  -0.49607843 -0.5        -0.5        -0.5        -0.5        -0.5\n",
      "  -0.48823529 -0.48823529 -0.5        -0.5       ]\n",
      " [-0.5        -0.5        -0.5        -0.5        -0.5        -0.49215686\n",
      "   0.30392158  0.5         0.5        -0.01372549 -0.5        -0.43333334\n",
      "  -0.45686275 -0.45294118 -0.44117647 -0.44117647 -0.45294118 -0.49215686\n",
      "  -0.5        -0.5        -0.5        -0.5        -0.5        -0.5        -0.5\n",
      "  -0.5        -0.5        -0.5       ]\n",
      " [-0.5        -0.5        -0.5        -0.48823529 -0.5        -0.23333333\n",
      "   0.5         0.5         0.47254902 -0.41764706 -0.07254902  0.5\n",
      "   0.48431373  0.48431373  0.43333334  0.44117647  0.4254902   0.23333333\n",
      "  -0.39803922 -0.5        -0.49607843 -0.5        -0.5        -0.5        -0.5\n",
      "  -0.5        -0.5        -0.5       ]\n",
      " [-0.5        -0.5        -0.5        -0.48823529 -0.5         0.13921569\n",
      "   0.5         0.5         0.17058824 -0.5        -0.34705883 -0.17843138\n",
      "  -0.0882353   0.26078433  0.5         0.49607843  0.48823529  0.5\n",
      "  -0.10392157 -0.5        -0.48431373 -0.5        -0.5        -0.5        -0.5\n",
      "  -0.5        -0.5        -0.5       ]\n",
      " [-0.5        -0.5        -0.49215686 -0.5        -0.38627452  0.43725491\n",
      "   0.5         0.5        -0.20196079 -0.5        -0.48823529 -0.5\n",
      "  -0.49607843 -0.5         0.08431373  0.5         0.48823529  0.5\n",
      "  -0.24509804 -0.5        -0.48823529 -0.5        -0.5        -0.5        -0.5\n",
      "  -0.5        -0.5        -0.5       ]\n",
      " [-0.5        -0.5        -0.48431373 -0.5        -0.04901961  0.5         0.5\n",
      "   0.34705883 -0.46862745 -0.5        -0.49215686 -0.48823529 -0.48039216\n",
      "  -0.5        -0.47647059  0.15882353  0.46078432  0.0372549  -0.5        -0.5\n",
      "  -0.5        -0.5        -0.5        -0.5        -0.5        -0.5        -0.5\n",
      "  -0.5       ]\n",
      " [-0.5        -0.49607843 -0.5        -0.48823529  0.31176472  0.5         0.5\n",
      "   0.00588235 -0.5        -0.48823529 -0.5        -0.5        -0.5\n",
      "  -0.49607843 -0.49607843 -0.48823529 -0.45686275 -0.49607843 -0.49607843\n",
      "  -0.5        -0.5        -0.5        -0.5        -0.5        -0.5        -0.5\n",
      "  -0.5        -0.5       ]\n",
      " [-0.5        -0.48823529 -0.5        -0.21764706  0.5         0.5\n",
      "   0.48039216 -0.33529413 -0.5        -0.49215686 -0.5        -0.5        -0.5\n",
      "  -0.5        -0.49607843 -0.49215686 -0.5        -0.49215686 -0.5        -0.5\n",
      "  -0.5        -0.5        -0.5        -0.5        -0.5        -0.5        -0.5\n",
      "  -0.5       ]\n",
      " [-0.5        -0.49215686 -0.5         0.1627451   0.5         0.5\n",
      "   0.20588236 -0.5        -0.49215686 -0.5        -0.5        -0.5        -0.5\n",
      "  -0.5        -0.5        -0.5        -0.49607843 -0.5        -0.5        -0.5\n",
      "  -0.5        -0.5        -0.5        -0.5        -0.5        -0.5        -0.5\n",
      "  -0.5       ]\n",
      " [-0.49215686 -0.5        -0.35490197  0.46078432  0.49607843  0.5\n",
      "  -0.15490197 -0.5        -0.48823529 -0.5        -0.5        -0.5        -0.5\n",
      "  -0.5        -0.5        -0.5        -0.5        -0.5        -0.5        -0.5\n",
      "  -0.5        -0.5        -0.5        -0.5        -0.5        -0.5        -0.5\n",
      "  -0.5       ]\n",
      " [-0.48431373 -0.5         0.00588235  0.5         0.5         0.40196079\n",
      "  -0.41764706 -0.5        -0.49607843 -0.5        -0.5        -0.5        -0.5\n",
      "  -0.5        -0.5        -0.5        -0.5        -0.5        -0.5        -0.5\n",
      "  -0.5        -0.5        -0.5        -0.5        -0.5        -0.5        -0.5\n",
      "  -0.5       ]\n",
      " [-0.5        -0.45686275  0.36274511  0.5         0.5         0.16666667\n",
      "  -0.5        -0.48823529 -0.5        -0.5        -0.5        -0.5        -0.5\n",
      "  -0.5        -0.5        -0.5        -0.5        -0.5        -0.5        -0.5\n",
      "  -0.5        -0.5        -0.5        -0.5        -0.5        -0.5        -0.5\n",
      "  -0.5       ]\n",
      " [-0.5        -0.1627451   0.5         0.47647059  0.5         0.10392157\n",
      "  -0.5        -0.48823529 -0.5        -0.5        -0.5        -0.5        -0.5\n",
      "  -0.5        -0.5        -0.5        -0.5        -0.5        -0.5        -0.5\n",
      "  -0.5        -0.5        -0.5        -0.5        -0.5        -0.5        -0.5\n",
      "  -0.5       ]\n",
      " [-0.5         0.21372549  0.5         0.48431373  0.5         0.45294118\n",
      "  -0.32352942 -0.5        -0.49215686 -0.5        -0.5        -0.5        -0.5\n",
      "  -0.5        -0.5        -0.5        -0.5        -0.5        -0.5        -0.5\n",
      "  -0.5        -0.5        -0.5        -0.5        -0.5        -0.5        -0.5\n",
      "  -0.5       ]\n",
      " [-0.31960785  0.46862745  0.5         0.49607843  0.48431373  0.5\n",
      "   0.04509804 -0.5        -0.48431373 -0.5        -0.5        -0.5        -0.5\n",
      "  -0.5        -0.5        -0.5        -0.5        -0.5        -0.5        -0.5\n",
      "  -0.5        -0.5        -0.5        -0.5        -0.5        -0.5        -0.5\n",
      "  -0.5       ]\n",
      " [ 0.01764706  0.5         0.49215686  0.5         0.48431373  0.5\n",
      "  -0.11568628 -0.5        -0.48823529 -0.5        -0.5        -0.5        -0.5\n",
      "  -0.5        -0.5        -0.5        -0.5        -0.5        -0.5        -0.5\n",
      "  -0.5        -0.5        -0.5        -0.5        -0.5        -0.5        -0.5\n",
      "  -0.5       ]\n",
      " [ 0.31568629  0.5         0.49607843  0.48823529  0.5         0.32745099\n",
      "  -0.46078432 -0.5        -0.49607843 -0.5        -0.5        -0.5        -0.5\n",
      "  -0.5        -0.5        -0.5        -0.5        -0.5        -0.5        -0.5\n",
      "  -0.5        -0.5        -0.5        -0.5        -0.5        -0.5        -0.5\n",
      "  -0.5       ]\n",
      " [ 0.48039216  0.5         0.49215686  0.5         0.48431373 -0.24509804\n",
      "  -0.5        -0.49215686 -0.5        -0.5        -0.5        -0.5        -0.5\n",
      "  -0.5        -0.5        -0.5        -0.5        -0.5        -0.5        -0.5\n",
      "  -0.5        -0.5        -0.5        -0.5        -0.5        -0.5        -0.5\n",
      "  -0.5       ]\n",
      " [ 0.40980393  0.5         0.5         0.48431373 -0.14313726 -0.5\n",
      "  -0.48823529 -0.5        -0.5        -0.5        -0.5        -0.5        -0.5\n",
      "  -0.5        -0.5        -0.5        -0.5        -0.5        -0.5        -0.5\n",
      "  -0.5        -0.5        -0.5        -0.5        -0.5        -0.5        -0.5\n",
      "  -0.5       ]\n",
      " [-0.03333334  0.48431373  0.31960785 -0.2372549  -0.5        -0.48823529\n",
      "  -0.5        -0.5        -0.5        -0.5        -0.5        -0.5        -0.5\n",
      "  -0.5        -0.5        -0.5        -0.5        -0.5        -0.5        -0.5\n",
      "  -0.5        -0.5        -0.5        -0.5        -0.5        -0.5        -0.5\n",
      "  -0.5       ]]\n"
     ]
    },
    {
     "data": {
      "image/png": "[encoded data removed]",
      "text/plain": [
       "<matplotlib.figure.Figure at 0x7f75cf5a6c88>"
      ]
     },
     "metadata": {},
     "output_type": "display_data"
    }
   ],
   "source": [
    "letters = ['A', 'B', 'C', 'D', 'E', 'F', 'G', 'H', 'I','J']\n",
    "index = np.random.randint(10000, size=1)[0]\n",
    "print (index)\n",
    "\n",
    "plt.imshow(test_dataset[index])\n",
    "print (\"Predicted:\", letters[predicted_labels[index]])\n",
    "print (\"Real:\", letters[test_labels[index]])\n",
    "\n",
    "print(test_dataset[index])"
   ]
  },
  {
   "cell_type": "code",
   "execution_count": 125,
   "metadata": {},
   "outputs": [
    {
     "name": "stdout",
     "output_type": "stream",
     "text": [
      "0\n",
      "1\n",
      "2\n",
      "3\n",
      "4\n",
      "5\n",
      "6\n",
      "7\n",
      "8\n",
      "9\n"
     ]
    }
   ],
   "source": [
    "for x in range(10):\n",
    "    print(x)"
   ]
  },
  {
   "cell_type": "code",
   "execution_count": 131,
   "metadata": {},
   "outputs": [
    {
     "name": "stdout",
     "output_type": "stream",
     "text": [
      "0\n",
      "1\n",
      "2\n",
      "3\n",
      "4\n",
      "5\n",
      "6\n",
      "7\n",
      "8\n",
      "9\n"
     ]
    }
   ],
   "source": [
    "mas = range(10)\n",
    "\n",
    "for x in mas:\n",
    "    print(x)"
   ]
  }
 ],
 "metadata": {
  "colab": {
   "default_view": {},
   "name": "1_notmnist.ipynb",
   "provenance": [],
   "version": "0.3.2",
   "views": {}
  },
  "kernelspec": {
   "display_name": "Python 3",
   "language": "python",
   "name": "python3"
  },
  "language_info": {
   "codemirror_mode": {
    "name": "ipython",
    "version": 3
   },
   "file_extension": ".py",
   "mimetype": "text/x-python",
   "name": "python",
   "nbconvert_exporter": "python",
   "pygments_lexer": "ipython3",
   "version": "3.5.2"
  }
 },
 "nbformat": 4,
 "nbformat_minor": 1
}
